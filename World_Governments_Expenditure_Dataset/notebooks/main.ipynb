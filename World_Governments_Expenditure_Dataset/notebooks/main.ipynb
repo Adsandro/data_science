{
 "cells": [
  {
   "cell_type": "code",
   "execution_count": 18,
   "metadata": {},
   "outputs": [],
   "source": [
    "import matplotlib.pyplot as plt\n",
    "import matplotlib.dates as mdates\n",
    "import pandas as pd\n",
    "import numpy as np\n",
    "import os\n",
    "import seaborn as sns\n"
   ]
  },
  {
   "cell_type": "code",
   "execution_count": 19,
   "metadata": {},
   "outputs": [],
   "source": [
    "df = pd.read_csv(R'D:\\code\\data_science\\World_Governments_Expenditure_Dataset\\data\\WorldExpenditures.csv')\n",
    "df = df[df['Sector'] != 'Total function']"
   ]
  },
  {
   "cell_type": "code",
   "execution_count": 20,
   "metadata": {},
   "outputs": [
    {
     "data": {
      "text/html": [
       "<div>\n",
       "<style scoped>\n",
       "    .dataframe tbody tr th:only-of-type {\n",
       "        vertical-align: middle;\n",
       "    }\n",
       "\n",
       "    .dataframe tbody tr th {\n",
       "        vertical-align: top;\n",
       "    }\n",
       "\n",
       "    .dataframe thead th {\n",
       "        text-align: right;\n",
       "    }\n",
       "</style>\n",
       "<table border=\"1\" class=\"dataframe\">\n",
       "  <thead>\n",
       "    <tr style=\"text-align: right;\">\n",
       "      <th></th>\n",
       "      <th>Unnamed: 0</th>\n",
       "      <th>Year</th>\n",
       "      <th>Country</th>\n",
       "      <th>Sector</th>\n",
       "      <th>Expenditure(million USD)</th>\n",
       "      <th>GDP(%)</th>\n",
       "    </tr>\n",
       "  </thead>\n",
       "  <tbody>\n",
       "    <tr>\n",
       "      <th>1</th>\n",
       "      <td>1</td>\n",
       "      <td>2000</td>\n",
       "      <td>Australia</td>\n",
       "      <td>Agriculture, forestry, fishing and hunting</td>\n",
       "      <td>2195.583</td>\n",
       "      <td>0.53572</td>\n",
       "    </tr>\n",
       "    <tr>\n",
       "      <th>2</th>\n",
       "      <td>2</td>\n",
       "      <td>2000</td>\n",
       "      <td>Australia</td>\n",
       "      <td>Mining, manufacturing and construction</td>\n",
       "      <td>905.018</td>\n",
       "      <td>0.22082</td>\n",
       "    </tr>\n",
       "    <tr>\n",
       "      <th>3</th>\n",
       "      <td>3</td>\n",
       "      <td>2000</td>\n",
       "      <td>Australia</td>\n",
       "      <td>Transport</td>\n",
       "      <td>11417.379</td>\n",
       "      <td>2.78584</td>\n",
       "    </tr>\n",
       "    <tr>\n",
       "      <th>4</th>\n",
       "      <td>4</td>\n",
       "      <td>2000</td>\n",
       "      <td>Australia</td>\n",
       "      <td>Fuel and energy</td>\n",
       "      <td>2251.241</td>\n",
       "      <td>0.54930</td>\n",
       "    </tr>\n",
       "    <tr>\n",
       "      <th>5</th>\n",
       "      <td>5</td>\n",
       "      <td>2000</td>\n",
       "      <td>Australia</td>\n",
       "      <td>Environment protection</td>\n",
       "      <td>2051.800</td>\n",
       "      <td>0.50064</td>\n",
       "    </tr>\n",
       "  </tbody>\n",
       "</table>\n",
       "</div>"
      ],
      "text/plain": [
       "   Unnamed: 0  Year    Country                                      Sector  \\\n",
       "1           1  2000  Australia  Agriculture, forestry, fishing and hunting   \n",
       "2           2  2000  Australia      Mining, manufacturing and construction   \n",
       "3           3  2000  Australia                                   Transport   \n",
       "4           4  2000  Australia                             Fuel and energy   \n",
       "5           5  2000  Australia                      Environment protection   \n",
       "\n",
       "   Expenditure(million USD)   GDP(%)  \n",
       "1                  2195.583  0.53572  \n",
       "2                   905.018  0.22082  \n",
       "3                 11417.379  2.78584  \n",
       "4                  2251.241  0.54930  \n",
       "5                  2051.800  0.50064  "
      ]
     },
     "execution_count": 20,
     "metadata": {},
     "output_type": "execute_result"
    }
   ],
   "source": [
    "df.head()"
   ]
  },
  {
   "cell_type": "code",
   "execution_count": 21,
   "metadata": {},
   "outputs": [
    {
     "name": "stdout",
     "output_type": "stream",
     "text": [
      "=================== Shape =========================================\n",
      "(24095, 6)\n",
      "================= Data types ======================================\n",
      "Unnamed: 0                    int64\n",
      "Year                          int64\n",
      "Country                      object\n",
      "Sector                       object\n",
      "Expenditure(million USD)    float64\n",
      "GDP(%)                      float64\n",
      "dtype: object\n",
      "=================== Tail ==========================================\n",
      "       Unnamed: 0  Year                   Country  \\\n",
      "25728       25728  2021  United States of America   \n",
      "25729       25729  2021  United States of America   \n",
      "25730       25730  2021  United States of America   \n",
      "25731       25731  2021  United States of America   \n",
      "25732       25732  2021  United States of America   \n",
      "\n",
      "                                 Sector  Expenditure(million USD)    GDP(%)  \n",
      "25728                 Social protection                2827585.06  12.07255  \n",
      "25729           General public services                1291640.23   5.51474  \n",
      "25730                           Defence                 759321.99   3.24197  \n",
      "25731           Public order and safety                 459973.19   1.96388  \n",
      "25732  Recreation, culture and religion                  62528.78   0.26697  \n",
      "================== Is null ========================================\n",
      "Unnamed: 0                    0\n",
      "Year                          0\n",
      "Country                       0\n",
      "Sector                        0\n",
      "Expenditure(million USD)    532\n",
      "GDP(%)                      532\n",
      "dtype: int64\n",
      "===================================================================\n"
     ]
    }
   ],
   "source": [
    "def check_df(df):\n",
    "    print(\"=================== Shape =========================================\")\n",
    "    print(df.shape)\n",
    "    print(\"================= Data types ======================================\")\n",
    "    print(df.dtypes)\n",
    "    print(\"=================== Tail ==========================================\")\n",
    "    print(df.tail())\n",
    "    print(\"================== Is null ========================================\")\n",
    "    print(df.isnull().sum())\n",
    "    print(\"===================================================================\")\n",
    "\n",
    "check_df(df)"
   ]
  },
  {
   "cell_type": "code",
   "execution_count": 22,
   "metadata": {},
   "outputs": [
    {
     "name": "stdout",
     "output_type": "stream",
     "text": [
      "================= Calculo das despesas gerais ========================\n"
     ]
    },
    {
     "data": {
      "text/plain": [
       "count      23563.00\n",
       "mean       19045.59\n",
       "std        94025.70\n",
       "min            0.00\n",
       "25%          113.01\n",
       "50%          938.17\n",
       "75%         6437.38\n",
       "max      2827585.06\n",
       "Name: Expenditure(million USD), dtype: float64"
      ]
     },
     "execution_count": 22,
     "metadata": {},
     "output_type": "execute_result"
    }
   ],
   "source": [
    "print(\"================= Calculo das despesas gerais ========================\")\n",
    "df['Expenditure(million USD)'].describe().round(2)"
   ]
  },
  {
   "cell_type": "code",
   "execution_count": 23,
   "metadata": {},
   "outputs": [
    {
     "name": "stdout",
     "output_type": "stream",
     "text": [
      "================== Todos os setores ==================================\n",
      "Agriculture, forestry, fishing and hunting\n",
      "Mining, manufacturing and construction\n",
      "Transport\n",
      "Fuel and energy\n",
      "Environment protection\n",
      "Housing and community amenities\n",
      "Health\n",
      "Education\n",
      "Social protection\n",
      "General public services\n",
      "Defence\n",
      "Public order and safety\n",
      "Recreation, culture and religion\n",
      "General economic, commercial and labour affairs\n",
      "Other industries\n",
      "RandD Economic affairs\n",
      "Economic affairs n.e.c.\n",
      "Communication\n",
      "Social p rotection\n",
      "Others\n",
      "======================================================================\n"
     ]
    }
   ],
   "source": [
    "sector = df['Sector']\n",
    "sector_list = sector.unique()\n",
    "\n",
    "print(\"================== Todos os setores ==================================\")\n",
    "for setores in sector_list:\n",
    "    print(setores)\n",
    "print(\"======================================================================\")"
   ]
  },
  {
   "cell_type": "code",
   "execution_count": 24,
   "metadata": {},
   "outputs": [
    {
     "data": {
      "text/html": [
       "<div>\n",
       "<style scoped>\n",
       "    .dataframe tbody tr th:only-of-type {\n",
       "        vertical-align: middle;\n",
       "    }\n",
       "\n",
       "    .dataframe tbody tr th {\n",
       "        vertical-align: top;\n",
       "    }\n",
       "\n",
       "    .dataframe thead th {\n",
       "        text-align: right;\n",
       "    }\n",
       "</style>\n",
       "<table border=\"1\" class=\"dataframe\">\n",
       "  <thead>\n",
       "    <tr style=\"text-align: right;\">\n",
       "      <th></th>\n",
       "      <th>Unnamed: 0</th>\n",
       "      <th>Year</th>\n",
       "      <th>Country</th>\n",
       "      <th>Sector</th>\n",
       "      <th>Expenditure(million USD)</th>\n",
       "      <th>GDP(%)</th>\n",
       "    </tr>\n",
       "  </thead>\n",
       "  <tbody>\n",
       "  </tbody>\n",
       "</table>\n",
       "</div>"
      ],
      "text/plain": [
       "Empty DataFrame\n",
       "Columns: [Unnamed: 0, Year, Country, Sector, Expenditure(million USD), GDP(%)]\n",
       "Index: []"
      ]
     },
     "execution_count": 24,
     "metadata": {},
     "output_type": "execute_result"
    }
   ],
   "source": [
    "df_total_function = df[df['Sector'] == 'Total function']\n",
    "df_total_function.head()"
   ]
  },
  {
   "cell_type": "code",
   "execution_count": 25,
   "metadata": {},
   "outputs": [
    {
     "name": "stdout",
     "output_type": "stream",
     "text": [
      "================= Comparaçao entre países ========================\n",
      "                          Expenditure(million USD)    GDP(%)\n",
      "Country                                                     \n",
      "United States of America             629038.809949  3.890277\n",
      "China                                155729.299504  1.662163\n",
      "Japan                                112168.807814  2.179289\n",
      "Germany                               84524.513174  2.571905\n",
      "France                                75246.645222  3.072245\n",
      "United Kingdom                        61892.490647  2.372730\n",
      "Italy                                 53816.989235  2.794884\n",
      "India                                 43559.808489  1.878678\n",
      "Canada                                42884.102476  2.538418\n",
      "Brazil                                42487.297443  2.710237\n"
     ]
    }
   ],
   "source": [
    "print(\"================= Comparaçao entre países ========================\")\n",
    "\n",
    "summary_by_country = df.groupby('Country').agg({'Expenditure(million USD)': 'mean', 'GDP(%)': 'mean'})\n",
    "summary_by_country = summary_by_country.sort_values(by='Expenditure(million USD)', ascending=False)\n",
    "print(summary_by_country.head(10))"
   ]
  },
  {
   "cell_type": "code",
   "execution_count": 26,
   "metadata": {},
   "outputs": [
    {
     "data": {
      "text/html": [
       "<div>\n",
       "<style scoped>\n",
       "    .dataframe tbody tr th:only-of-type {\n",
       "        vertical-align: middle;\n",
       "    }\n",
       "\n",
       "    .dataframe tbody tr th {\n",
       "        vertical-align: top;\n",
       "    }\n",
       "\n",
       "    .dataframe thead th {\n",
       "        text-align: right;\n",
       "    }\n",
       "</style>\n",
       "<table border=\"1\" class=\"dataframe\">\n",
       "  <thead>\n",
       "    <tr style=\"text-align: right;\">\n",
       "      <th></th>\n",
       "      <th>Unnamed: 0</th>\n",
       "      <th>Year</th>\n",
       "      <th>Country</th>\n",
       "      <th>Sector</th>\n",
       "      <th>Expenditure(million USD)</th>\n",
       "      <th>GDP(%)</th>\n",
       "    </tr>\n",
       "  </thead>\n",
       "  <tbody>\n",
       "    <tr>\n",
       "      <th>49</th>\n",
       "      <td>49</td>\n",
       "      <td>2000</td>\n",
       "      <td>Brazil</td>\n",
       "      <td>Agriculture, forestry, fishing and hunting</td>\n",
       "      <td>4777.386</td>\n",
       "      <td>0.72887</td>\n",
       "    </tr>\n",
       "    <tr>\n",
       "      <th>50</th>\n",
       "      <td>50</td>\n",
       "      <td>2000</td>\n",
       "      <td>Brazil</td>\n",
       "      <td>Transport</td>\n",
       "      <td>7568.216</td>\n",
       "      <td>1.15466</td>\n",
       "    </tr>\n",
       "    <tr>\n",
       "      <th>51</th>\n",
       "      <td>51</td>\n",
       "      <td>2000</td>\n",
       "      <td>Brazil</td>\n",
       "      <td>Communication</td>\n",
       "      <td>319.215</td>\n",
       "      <td>0.04870</td>\n",
       "    </tr>\n",
       "    <tr>\n",
       "      <th>52</th>\n",
       "      <td>52</td>\n",
       "      <td>2000</td>\n",
       "      <td>Brazil</td>\n",
       "      <td>Fuel and energy</td>\n",
       "      <td>396.633</td>\n",
       "      <td>0.06051</td>\n",
       "    </tr>\n",
       "    <tr>\n",
       "      <th>53</th>\n",
       "      <td>53</td>\n",
       "      <td>2000</td>\n",
       "      <td>Brazil</td>\n",
       "      <td>Environment protection</td>\n",
       "      <td>710.650</td>\n",
       "      <td>0.10842</td>\n",
       "    </tr>\n",
       "  </tbody>\n",
       "</table>\n",
       "</div>"
      ],
      "text/plain": [
       "    Unnamed: 0  Year Country                                      Sector  \\\n",
       "49          49  2000  Brazil  Agriculture, forestry, fishing and hunting   \n",
       "50          50  2000  Brazil                                   Transport   \n",
       "51          51  2000  Brazil                               Communication   \n",
       "52          52  2000  Brazil                             Fuel and energy   \n",
       "53          53  2000  Brazil                      Environment protection   \n",
       "\n",
       "    Expenditure(million USD)   GDP(%)  \n",
       "49                  4777.386  0.72887  \n",
       "50                  7568.216  1.15466  \n",
       "51                   319.215  0.04870  \n",
       "52                   396.633  0.06051  \n",
       "53                   710.650  0.10842  "
      ]
     },
     "execution_count": 26,
     "metadata": {},
     "output_type": "execute_result"
    }
   ],
   "source": [
    "df_brasil = df[df['Country'] == 'Brazil'] \n",
    "df_brasil = df_brasil[df_brasil['Sector'] != 'Total function']\n",
    "df_brasil.head()"
   ]
  },
  {
   "cell_type": "code",
   "execution_count": 27,
   "metadata": {},
   "outputs": [
    {
     "data": {
      "image/png": "[encoded data removed]",
      "text/plain": [
       "<Figure size 640x480 with 1 Axes>"
      ]
     },
     "metadata": {},
     "output_type": "display_data"
    }
   ],
   "source": [
    "fig, ax = plt.subplots()\n",
    "\n",
    "ax.bar(df_brasil['Year'], df_brasil['Expenditure(million USD)'])\n",
    "plt.title('Expenditure per Year in Brazil')\n",
    "plt.grid(True)\n",
    "\n",
    "plt.show()"
   ]
  }
 ],
 "metadata": {
  "kernelspec": {
   "display_name": "venv",
   "language": "python",
   "name": "python3"
  },
  "language_info": {
   "codemirror_mode": {
    "name": "ipython",
    "version": 3
   },
   "file_extension": ".py",
   "mimetype": "text/x-python",
   "name": "python",
   "nbconvert_exporter": "python",
   "pygments_lexer": "ipython3",
   "version": "3.12.2"
  }
 },
 "nbformat": 4,
 "nbformat_minor": 2
}
